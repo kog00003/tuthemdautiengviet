{
  "cells": [
    {
      "cell_type": "code",
      "execution_count": 1,
      "metadata": {
        "id": "_xzrV30pfqJP"
      },
      "outputs": [],
      "source": [
        "import torch\n",
        "from torch import nn\n",
        "from tqdm import trange\n",
        "import numpy as np\n",
        "import pandas as pd\n",
        "IS_LOCAL=False"
      ]
    },
    {
      "cell_type": "markdown",
      "metadata": {
        "id": "lnIO0NmBIFTE"
      },
      "source": [
        "### load data"
      ]
    },
    {
      "cell_type": "code",
      "execution_count": 2,
      "metadata": {
        "colab": {
          "base_uri": "https://localhost:8080/"
        },
        "id": "zLoPB2amIG-Z",
        "outputId": "924d6f35-1cb1-4ca3-dd0f-09d2993e39a6"
      },
      "outputs": [
        {
          "name": "stdout",
          "output_type": "stream",
          "text": [
            "torch.Size([5743119, 3])\n"
          ]
        }
      ],
      "source": [
        "if IS_LOCAL:\n",
        "    x = torch.load('data/x').type(torch.float)\n",
        "    y = torch.load('data/y').type(torch.long)\n",
        "else:\n",
        "    x = torch.load(\n",
        "        '/content/drive/MyDrive/Colab Notebooks/x').type(torch.float).cuda()\n",
        "    y = torch.load(\n",
        "        '/content/drive/MyDrive/Colab Notebooks/y').type(torch.long).cuda()\n",
        "print(y.size())\n"
      ]
    },
    {
      "cell_type": "code",
      "execution_count": 39,
      "metadata": {
        "id": "NE0CCjhk0v1t"
      },
      "outputs": [],
      "source": [
        "xtn, ytn, xtt, ytt = simpletorch.chooseTrainTest(x, y)\n",
        "x=None\n",
        "y=None"
      ]
    },
    {
      "cell_type": "code",
      "execution_count": 92,
      "metadata": {
        "id": "FEBdxI2ovs29"
      },
      "outputs": [],
      "source": [
        "import simpletorch\n",
        "from matplotlib import pyplot as plt\n",
        "from simpletorch import crossEntropyLossMultiTarget\n",
        "from simpletorch import toTensorF, toTensorL\n",
        "from simpletorch import LinearReLU, LinearNormReLU,LinearReLUStackX, crossEntropyLossMultiTarget\n",
        "\n",
        "\n",
        "\n"
      ]
    },
    {
      "cell_type": "code",
      "execution_count": 96,
      "metadata": {
        "colab": {
          "base_uri": "https://localhost:8080/"
        },
        "id": "abUTDz26wIWw",
        "outputId": "8f93a66a-3d0b-444f-8a12-af0e8ddbac8a"
      },
      "outputs": [
        {
          "name": "stdout",
          "output_type": "stream",
          "text": [
            "141707\n"
          ]
        }
      ],
      "source": [
        "model =  torch.nn.Sequential(LinearNormReLU(45, 128),\n",
        "                            LinearNormReLU(128, 128),\n",
        "                            LinearNormReLU(128, 128),\n",
        "                            LinearNormReLU(128, 128),\n",
        "                            LinearNormReLU(128, 128),\n",
        "                            LinearNormReLU(128, 128),\n",
        "                            LinearNormReLU(128, 128),\n",
        "                            LinearNormReLU(128, 128),\n",
        "                            LinearNormReLU(128, 128),\n",
        "                            nn.Linear(128, 11))\n",
        "\n",
        "\n",
        "lossUse = crossEntropyLossMultiTarget([[0, 2], [2, 5], [5, 11]])\n",
        "model=model.cuda()\n",
        "# \n",
        "# model = simpletorch.loadModel(model, '/content/drive/MyDrive/Colab Notebooks/model')\n",
        "\n",
        "print(sum(p.numel() for p in model.parameters()))"
      ]
    },
    {
      "cell_type": "markdown",
      "metadata": {
        "id": "4nviAQC3zIWb"
      },
      "source": [
        "## training"
      ]
    },
    {
      "cell_type": "code",
      "execution_count": 100,
      "metadata": {
        "colab": {
          "base_uri": "https://localhost:8080/"
        },
        "id": "kXD8CANBvmF5",
        "outputId": "e444606f-1cd4-449d-c36e-638ba7639ab8"
      },
      "outputs": [
        {
          "name": "stderr",
          "output_type": "stream",
          "text": [
            "0it [00:00, ?it/s]\n",
            "505/505 lr 0.1: 100%|██████████| 8/8 [13:40<00:00, 102.55s/it]\n",
            "505/505 lr 0.01: 100%|██████████| 8/8 [14:18<00:00, 107.31s/it]\n",
            "0it [00:00, ?it/s]\n"
          ]
        }
      ],
      "source": [
        "l = simpletorch.training(model, xtn[:], ytn[:],\n",
        "                         batchSize=1024*10,\n",
        "                         lossUse=lossUse,\n",
        "                         learningRate=[1,.1,.01,.001], \n",
        "                         numSteps=[0,8,8,0], \n",
        "                         numStepsPerBatch=10)"
      ]
    },
    {
      "cell_type": "code",
      "execution_count": 104,
      "metadata": {
        "colab": {
          "base_uri": "https://localhost:8080/",
          "height": 300
        },
        "id": "F8_z6rblvtA3",
        "outputId": "42f2c2ad-5d4e-45e0-ab35-3a929eb059c7"
      },
      "outputs": [
        {
          "name": "stdout",
          "output_type": "stream",
          "text": [
            "train loss 0.10669754671430824 mean 0.1057808277131713\n",
            "train {'loss': 0.12743374705314636, 'probTrue': 0.9010381102561951, 'avgScore': 0.8988610506057739}\n"
          ]
        },
        {
          "data": {
            "image/png": "[encoded data removed]",
            "text/plain": [
              "<Figure size 432x288 with 1 Axes>"
            ]
          },
          "metadata": {
            "needs_background": "light"
          },
          "output_type": "display_data"
        }
      ],
      "source": [
        "with torch.no_grad():\n",
        "  print('train loss', l[-1], 'mean', simpletorch.mean(np.array(l)))\n",
        "  xtt=xtt.cuda()\n",
        "  ytt=ytt.cuda()\n",
        "  print('train',simpletorch.testingWithCrossEntropyLossMultiTarget(\n",
        "    model, xtt, ytt, [[0, 2], [2, 5], [5, 11]]))\n",
        "  # print('test',simpletorch.testingWithCrossEntropyLossMultiTarget(\n",
        "  #   model, xtt, ytt, [[0, 2], [2, 5], [5, 11]]))\n",
        "  xtt=xtt.cpu()\n",
        "  ytt=ytt.cpu()\n",
        "  plt.plot(l)"
      ]
    },
    {
      "cell_type": "code",
      "execution_count": 105,
      "metadata": {
        "id": "ohEMaVIX24wG"
      },
      "outputs": [],
      "source": [
        "torch.save(model.state_dict(),'/content/drive/MyDrive/Colab Notebooks/model')"
      ]
    }
  ],
  "metadata": {
    "accelerator": "GPU",
    "colab": {
      "provenance": [],
      "toc_visible": true
    },
    "kernelspec": {
      "display_name": "Python 3",
      "name": "python3"
    },
    "language_info": {
      "name": "python"
    }
  },
  "nbformat": 4,
  "nbformat_minor": 0
}
